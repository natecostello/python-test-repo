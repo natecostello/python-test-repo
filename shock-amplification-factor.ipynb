{
 "cells": [
  {
   "cell_type": "markdown",
   "id": "6b9a43dc",
   "metadata": {},
   "source": [
    "# Shock Amplification Factors\n",
    "\n",
    "The purpose of this notebook is to explore the concept of *Shock Amplification Factors* as described and used in Steinberg."
   ]
  },
  {
   "cell_type": "code",
   "execution_count": null,
   "id": "5b48ccef",
   "metadata": {},
   "outputs": [],
   "source": []
  }
 ],
 "metadata": {
  "language_info": {
   "name": "python"
  }
 },
 "nbformat": 4,
 "nbformat_minor": 5
}
